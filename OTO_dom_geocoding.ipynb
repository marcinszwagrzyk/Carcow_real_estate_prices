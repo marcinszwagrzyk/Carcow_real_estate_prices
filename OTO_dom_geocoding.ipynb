{
 "cells": [
  {
   "cell_type": "markdown",
   "metadata": {},
   "source": [
    "# Geododing of Cracow housing offers, from OtoDom.pl service\n",
    "\n",
    "downloaded with  tool:\n",
    "\n",
    "https://ofedoruk.pl/szukamy-mieszkania-za-pomoca-pythona-i-beautiful-soup/,"
   ]
  },
  {
   "cell_type": "code",
   "execution_count": 1,
   "metadata": {},
   "outputs": [],
   "source": [
    "import sys\n",
    "reload(sys)\n",
    "sys.setdefaultencoding(\"utf-8\")\n",
    "import numpy as np \n",
    "import pandas as pd \n",
    "import seaborn as sns\n",
    "import geopandas as gpd\n",
    "import difflib\n",
    "from difflib import SequenceMatcher\n",
    "import matplotlib.pyplot as plt"
   ]
  },
  {
   "cell_type": "markdown",
   "metadata": {},
   "source": [
    "# read downlaoded offers - csv file"
   ]
  },
  {
   "cell_type": "code",
   "execution_count": 2,
   "metadata": {},
   "outputs": [
    {
     "data": {
      "text/plain": [
       "'mamy 15256 ogloszen'"
      ]
     },
     "metadata": {},
     "output_type": "display_data"
    }
   ],
   "source": [
    "df = pd.read_csv('csv\\offers.csv', header = 0, sep = \";\", error_bad_lines=False)\n",
    "il_ogloszen = df.shape[0]\n",
    "display('we have {} offers'.format(il_ogloszen))"
   ]
  },
  {
   "cell_type": "markdown",
   "metadata": {},
   "source": [
    "# Extracting Cracow street names from OpenStreetMap layer"
   ]
  },
  {
   "cell_type": "code",
   "execution_count": 3,
   "metadata": {},
   "outputs": [],
   "source": [
    "# pobranie listy ulic z warstwy OpenStreetMap dla Krakowa\n",
    "streets = gpd.read_file(r'shp\\drogi_krk_osm_dis.shp')\n",
    "lista_nazw = []\n",
    "\n",
    "for i in streets.itertuples():\n",
    "    # dodac zakres x y ulicy\n",
    "    # pobranie bounding box i pozniej losowanie w ramach tego bounding box\n",
    "    ulica = i.name\n",
    "    ulica_list = ulica.split(\" \")\n",
    "    lista_nazw.append(ulica_list[-1])\n",
    "\n",
    "# stworzenie listy dzielnic  \n",
    "lista_dzielnic = []\n",
    "for i in df.itertuples():\n",
    "    dzielnica = i.dzielnica\n",
    "    if dzielnica not in lista_dzielnic:\n",
    "            lista_dzielnic.append(dzielnica)\n",
    "            \n",
    "lista_dzielnic.append(['Justowska', 'Ruczaj'])"
   ]
  },
  {
   "cell_type": "markdown",
   "metadata": {},
   "source": [
    "# Functions for extraction of the street names from the offers descriptions"
   ]
  },
  {
   "cell_type": "code",
   "execution_count": 12,
   "metadata": {},
   "outputs": [],
   "source": [
    "# szukamy czy w opisie mielismy nazwe ulicy\n",
    "def szukaj_ulicy(cell):\n",
    "    opis_list = cell.split(\" \")\n",
    "    for slowo in opis_list:\n",
    "        if len(slowo) > 4:\n",
    "            for ulica in lista_nazw:\n",
    "                ratio = SequenceMatcher(None, slowo, ulica).ratio()\n",
    "                if ratio > 0.85:\n",
    "                    return ulica\n",
    "                \n",
    "            # sprawdzamy czy omylkowo nie traktujemy ulicy jako dzielnicy\n",
    "            for dzielnica in lista_dzielnic:\n",
    "                ratio = SequenceMatcher(None, slowo, dzielnica).ratio()\n",
    "                if ratio > 0.65:\n",
    "                    return (np.NaN)\n",
    "                \n",
    "def geokoduj(df, pole, rodzaj):\n",
    "    df['geo_location'] = df[pole].apply(geocode)\n",
    "    df['rodzaj'] = rodzaj\n",
    "    located = df.loc[df[\"geo_location\"].notnull()]\n",
    "    not_located = df.loc[df[\"geo_location\"].isnull()]\n",
    "    return(located, not_located)\n",
    "\n",
    "def czyszczenie(df, ALL_NUMERIC_COLUMNS):\n",
    "    # numerical data cleaning\n",
    "    \n",
    "    df = df.rename(columns={'pokoje': 'no_rooms', 'metraz': 'flat_area',\n",
    "                             'cena_za_metr': 'price'})\n",
    "    df[ALL_NUMERIC_COLUMNS]= df[ALL_NUMERIC_COLUMNS].replace(['>',' ', '/', 'pokoje',\n",
    "                 'pokój', 'pokoi', 'zł', 'm²'],'', regex=True)\n",
    "    df[ALL_NUMERIC_COLUMNS]= df[ALL_NUMERIC_COLUMNS].replace(',','.', regex=True)\n",
    "    df[ALL_NUMERIC_COLUMNS] = df[ALL_NUMERIC_COLUMNS].astype(float)\n",
    "    \n",
    "    # outliers\n",
    "    df = df.loc[df['price'] < 25000]\n",
    "    df = df.loc[df['price'] > 3000]\n",
    "    df = df.drop_duplicates(ALL_NUMERIC_COLUMNS, keep='first')  #usuwanie duplikatow\n",
    "\n",
    "    return df"
   ]
  },
  {
   "cell_type": "markdown",
   "metadata": {},
   "source": [
    "# Data cleaning"
   ]
  },
  {
   "cell_type": "code",
   "execution_count": null,
   "metadata": {},
   "outputs": [
    {
     "data": {
      "text/html": [
       "<div>\n",
       "<style scoped>\n",
       "    .dataframe tbody tr th:only-of-type {\n",
       "        vertical-align: middle;\n",
       "    }\n",
       "\n",
       "    .dataframe tbody tr th {\n",
       "        vertical-align: top;\n",
       "    }\n",
       "\n",
       "    .dataframe thead th {\n",
       "        text-align: right;\n",
       "    }\n",
       "</style>\n",
       "<table border=\"1\" class=\"dataframe\">\n",
       "  <thead>\n",
       "    <tr style=\"text-align: right;\">\n",
       "      <th></th>\n",
       "      <th>opis</th>\n",
       "      <th>dzielnica</th>\n",
       "      <th>no_rooms</th>\n",
       "      <th>cena</th>\n",
       "      <th>flat_area</th>\n",
       "      <th>price</th>\n",
       "      <th>link</th>\n",
       "      <th>data</th>\n",
       "      <th>ulica</th>\n",
       "      <th>lokator_ulica_dzielnica</th>\n",
       "    </tr>\n",
       "  </thead>\n",
       "  <tbody>\n",
       "    <tr>\n",
       "      <th>0</th>\n",
       "      <td>w sąsiedztwie Rynku Głównego / 2 miejsca p ojo...</td>\n",
       "      <td>: Stare Miasto</td>\n",
       "      <td>4.0</td>\n",
       "      <td>777 000</td>\n",
       "      <td>87.2</td>\n",
       "      <td>8911.0</td>\n",
       "      <td>https://www.otodom.pl/oferta/w-sasiedztwie-ryn...</td>\n",
       "      <td>2019-03-07 15:26:00.407141</td>\n",
       "      <td>None</td>\n",
       "      <td>NaN</td>\n",
       "    </tr>\n",
       "    <tr>\n",
       "      <th>1</th>\n",
       "      <td>Apartament u stóp Wawelu</td>\n",
       "      <td>: Stare Miasto</td>\n",
       "      <td>2.0</td>\n",
       "      <td>745 000</td>\n",
       "      <td>52.5</td>\n",
       "      <td>14190.0</td>\n",
       "      <td>https://www.otodom.pl/oferta/apartament-u-stop...</td>\n",
       "      <td>2019-03-07 15:26:00.407141</td>\n",
       "      <td>Wawelu</td>\n",
       "      <td>Kraków, : Stare Miasto, Wawelu</td>\n",
       "    </tr>\n",
       "    <tr>\n",
       "      <th>2</th>\n",
       "      <td>Mieszkanie  57   Kraków</td>\n",
       "      <td>: Ruczaj</td>\n",
       "      <td>3.0</td>\n",
       "      <td>430 000</td>\n",
       "      <td>57.0</td>\n",
       "      <td>7544.0</td>\n",
       "      <td>https://www.otodom.pl/oferta/mieszkanie-57-m-k...</td>\n",
       "      <td>2019-03-07 15:26:00.407141</td>\n",
       "      <td>None</td>\n",
       "      <td>NaN</td>\n",
       "    </tr>\n",
       "    <tr>\n",
       "      <th>3</th>\n",
       "      <td>Mieszkanie  48   Kraków</td>\n",
       "      <td>: Bronowice</td>\n",
       "      <td>2.0</td>\n",
       "      <td>399 500</td>\n",
       "      <td>48.0</td>\n",
       "      <td>8323.0</td>\n",
       "      <td>https://www.otodom.pl/oferta/mieszkanie-48-m-k...</td>\n",
       "      <td>2019-03-07 15:26:00.407141</td>\n",
       "      <td>None</td>\n",
       "      <td>NaN</td>\n",
       "    </tr>\n",
       "    <tr>\n",
       "      <th>4</th>\n",
       "      <td>Mieszkanie  52   Kraków</td>\n",
       "      <td>: Krowodrza</td>\n",
       "      <td>3.0</td>\n",
       "      <td>388 000</td>\n",
       "      <td>52.0</td>\n",
       "      <td>7462.0</td>\n",
       "      <td>https://www.otodom.pl/oferta/mieszkanie-52-m-k...</td>\n",
       "      <td>2019-03-07 15:26:00.407141</td>\n",
       "      <td>None</td>\n",
       "      <td>NaN</td>\n",
       "    </tr>\n",
       "  </tbody>\n",
       "</table>\n",
       "</div>"
      ],
      "text/plain": [
       "                                                   opis       dzielnica  \\\n",
       "0  w sąsiedztwie Rynku Głównego / 2 miejsca p ojo...     : Stare Miasto   \n",
       "1                           Apartament u stóp Waw...     : Stare Miasto   \n",
       "2                            Mieszkanie  57   Kra...           : Ruczaj   \n",
       "3                            Mieszkanie  48   Kra...        : Bronowice   \n",
       "4                            Mieszkanie  52   Kra...        : Krowodrza   \n",
       "\n",
       "   no_rooms      cena  flat_area    price  \\\n",
       "0       4.0  777 000        87.2   8911.0   \n",
       "1       2.0  745 000        52.5  14190.0   \n",
       "2       3.0  430 000        57.0   7544.0   \n",
       "3       2.0  399 500        48.0   8323.0   \n",
       "4       3.0  388 000        52.0   7462.0   \n",
       "\n",
       "                                                link  \\\n",
       "0  https://www.otodom.pl/oferta/w-sasiedztwie-ryn...   \n",
       "1  https://www.otodom.pl/oferta/apartament-u-stop...   \n",
       "2  https://www.otodom.pl/oferta/mieszkanie-57-m-k...   \n",
       "3  https://www.otodom.pl/oferta/mieszkanie-48-m-k...   \n",
       "4  https://www.otodom.pl/oferta/mieszkanie-52-m-k...   \n",
       "\n",
       "                         data   ulica            lokator_ulica_dzielnica  \n",
       "0  2019-03-07 15:26:00.407141    None                               NaN   \n",
       "1  2019-03-07 15:26:00.407141  Wawelu    Kraków, : Stare Miasto, Wawelu   \n",
       "2  2019-03-07 15:26:00.407141    None                               NaN   \n",
       "3  2019-03-07 15:26:00.407141    None                               NaN   \n",
       "4  2019-03-07 15:26:00.407141    None                               NaN   "
      ]
     },
     "metadata": {},
     "output_type": "display_data"
    }
   ],
   "source": [
    "# probe data\n",
    "df_probe = df.iloc[:2000]\n",
    "\n",
    "ALL_NUMERIC_COLUMNS= ['price', 'flat_area', 'no_rooms']\n",
    "df_probe = czyszczenie(df_probe, ALL_NUMERIC_COLUMNS)\n",
    "df_probe['opis'] = df_probe['opis'].replace([\"ul.\", \"-\", \",\", \"os.\"],\" \", regex=True)\n",
    "\n",
    "# przypisanie ulicy\n",
    "df_probe['ulica'] = df_probe['opis'].apply(szukaj_ulicy)\n",
    "df_probe['lokator_ulica_dzielnica'] = \"Kraków, \" + df_probe['dzielnica'] + \", \" + df_probe['ulica']\n",
    "\n",
    "display(df_probe.head(5))"
   ]
  },
  {
   "cell_type": "markdown",
   "metadata": {},
   "source": [
    "# Geocoding base on street name"
   ]
  },
  {
   "cell_type": "code",
   "execution_count": null,
   "metadata": {},
   "outputs": [],
   "source": [
    "# geocoding\n",
    "import geopy\n",
    "import geopandas\n",
    "from geopy.geocoders import Nominatim\n",
    "\n",
    "locator = Nominatim(user_agent ='nlp2')\n",
    "from geopy.extra.rate_limiter import RateLimiter\n",
    "\n",
    "# 1 - conveneint function to delay between geocoding calls\n",
    "geocode = RateLimiter(locator.geocode, min_delay_seconds=1)\n",
    "geokoduj2 = geokoduj(df_probe.loc[df_probe[\"ulica\"].notnull()], 'lokator_ulica_dzielnica', 'dzielnica_ulica')\n",
    "located = geokoduj2[0]\n",
    "\n",
    "il_ogloszen = located.shape[0]\n",
    "display('we have {} geocoded offers out of all {}'.format(il_ogloszen,df_probe.shape[0]))\n",
    "\n",
    "# 3 - create longitude, laatitude and altitude from location column (returns tuple)\n",
    "located['point'] = located['geo_location'].apply(lambda loc: tuple(loc.point) if loc else None)\n",
    "\n",
    "# 4 - split point column into latitude, longitude and altitude columns\n",
    "located[['latitude', 'longitude', 'altitude']] = pd.DataFrame(located['point'].tolist(), index=located.index)\n",
    "\n",
    "# 5 - save geolocated output to csv\n",
    "located.to_csv('geokoding_2020014.csv')"
   ]
  },
  {
   "cell_type": "markdown",
   "metadata": {},
   "source": [
    "# Moving each offer a bit to avoid overlapping"
   ]
  },
  {
   "cell_type": "code",
   "execution_count": null,
   "metadata": {},
   "outputs": [],
   "source": [
    "# przesuniecie o x, y zaby punkty na tej samej ulicy nie byly w tych samych miejscach\n",
    "located['latitude_odch'] = located.apply(lambda x: np.random.uniform(0, 0.0016), axis=1)\n",
    "located['longtitude_odch'] = located.apply(lambda x: np.random.uniform(0, 0.004), axis=1)\n",
    "located['latitude'] = located['latitude'] + located['latitude_odch']\n",
    "located['longitude'] = located['longitude'] + located['longtitude_odch']\n",
    "located = located.loc[located['latitude'] < 52]\n",
    "\n",
    "display(located.head(5))"
   ]
  },
  {
   "cell_type": "markdown",
   "metadata": {},
   "source": [
    "# Making GeoDataFrame"
   ]
  },
  {
   "cell_type": "code",
   "execution_count": null,
   "metadata": {},
   "outputs": [],
   "source": [
    "# DataFrame with x,y to GeoDataFrame\n",
    "from shapely.geometry import Point\n",
    "\n",
    "gdf = gpd.GeoDataFrame(\n",
    "    located, geometry=gpd.points_from_xy(x=located.longitude, y=located.latitude),\n",
    "    crs={'init':'epsg:4326'})\n",
    "\n",
    "gdf = gdf.loc[gdf['latitude'] < 50.2]\n",
    "gdf = gdf.loc[gdf['latitude'] > 49] \n",
    "gdf = gdf.loc[gdf['longitude'] <21]\n",
    "\n",
    "# reprojekcja do Panstwowego Ukladu Wspolrzednych Geodezyjnych PUWG1992\n",
    "gdf= gdf.to_crs({'init': 'epsg:2180'})\n",
    "liczba = gdf.shape[0]"
   ]
  },
  {
   "cell_type": "markdown",
   "metadata": {},
   "source": [
    "# Plotting GeoDataFrame with MatPlotLib"
   ]
  },
  {
   "cell_type": "code",
   "execution_count": null,
   "metadata": {},
   "outputs": [],
   "source": [
    "# plot geocoded offers\n",
    "plt.rcParams['figure.figsize'] = (15, 15)\n",
    "plt.rcParams['font.family'] = 'sans-serif'\n",
    "\n",
    "krk_border = gpd.read_file(r'shp\\krk_border.shp')\n",
    "vistula = gpd.read_file(r'c:\\Users\\marci\\git\\Cracow_housing\\shp\\osm_vistula_92.shp')\n",
    "rds = gpd.read_file(r'c:\\Users\\marci\\git\\Cracow_housing\\shp\\osm_rds_92.shp')\n",
    "\n",
    "ax = krk_border.plot(color ='gainsboro', edgecolor='black')\n",
    "ax.set_title(\"location of housing offers, no of offers: {}\".format(liczba))\n",
    "ax.legend()\n",
    "vistula.plot(ax=ax, color='lightcyan');\n",
    "rds.plot(ax=ax, color='black', linewidth = 0.1);\n",
    "gdf.plot(ax=ax, marker='o',column='price', cmap='YlOrRd', markersize=3);\n",
    "\n",
    "# colorbar will be created by ...\n",
    "fig = ax.get_figure()\n",
    "# add colorbar axes to the figure\n",
    "# here, need trial-and-error to get [l,b,w,h] right\n",
    "# l:left, b:bottom, w:width, h:height; in normalized unit (0-1)\n",
    "cbax = fig.add_axes([0.95, 0.3, 0.03, 0.39])   \n",
    "colormap = \"copper_r\"   # add _r to reverse the colormap\n",
    "sm = plt.cm.ScalarMappable(cmap=colormap, \\\n",
    "                norm=plt.Normalize(vmin=min(gdf.price), vmax=max(gdf.price)))\n",
    "\n",
    "# blank-out the array of the scalar mappable 'sm'\n",
    "sm._A = []\n",
    "# draw colorbar into 'cbax'\n",
    "fig.colorbar(sm, cax=cbax, format=\"%d\")\n",
    "\n",
    "# dont use: plt.tight_layout()\n",
    "plt.show()"
   ]
  },
  {
   "cell_type": "markdown",
   "metadata": {},
   "source": [
    "# Plotting GeoDataFrame with Folium - interactive map with pop-ups"
   ]
  },
  {
   "cell_type": "code",
   "execution_count": null,
   "metadata": {},
   "outputs": [],
   "source": [
    "#wyswietlenie punktow na mapie, razem z pop ups\n",
    "import folium\n",
    "\n",
    "Mmap = folium.Map(location=[50.05, 19.95], zoom_start=12, )\n",
    "\n",
    "def getColor(rodzaj):\n",
    "    if rodzaj == 'opis':\n",
    "        return 'blue'\n",
    "    elif rodzaj == 'ulica':\n",
    "        return 'red'\n",
    "    else:\n",
    "        return 'blue'\n",
    "\n",
    "for lat, lon, opis, link, dzielnica, rodzaj, ulica in zip(located['latitude'], located['longitude'], located['opis'],\n",
    "                                                          located['link'],  located['dzielnica'],  located['rodzaj'], \n",
    "                                                          located['ulica']):\n",
    "        folium.CircleMarker(\n",
    "            [lat, lon],\n",
    "            radius=.15,\n",
    "            popup = (str(link) +'<br>''<br>' + \"zgeokodowano na podstawie nazwy ulicy : \" + str(ulica)),\n",
    "            color= getColor(rodzaj),\n",
    "            key_on = ulica,\n",
    "            threshold_scale=[0,1,2,3],\n",
    "            fill_color = getColor(rodzaj),\n",
    "            fill=True,\n",
    "            fill_opacity=0.7\n",
    "            ).add_to(Mmap)\n",
    "\n",
    "Mmap"
   ]
  },
  {
   "cell_type": "markdown",
   "metadata": {},
   "source": [
    "# geoenrichment - calculate distances of offers to the city centre"
   ]
  },
  {
   "cell_type": "code",
   "execution_count": null,
   "metadata": {},
   "outputs": [],
   "source": [
    "def haversine(row):\n",
    "    import math\n",
    "    lon1 = row['longitude']\n",
    "    lat1 = row['latitude']\n",
    "\n",
    "    # coords of the city center\n",
    "    lon2 = 19.938 \n",
    "    lat2 = 50.061\n",
    "\n",
    "    R = 6371000  # radius of Earth in meters\n",
    "    phi_1 = math.radians(lat1)\n",
    "    phi_2 = math.radians(lat2)\n",
    "\n",
    "    delta_phi = math.radians(lat2 - lat1)\n",
    "    delta_lambda = math.radians(lon2 - lon1)\n",
    "\n",
    "    a = math.sin(delta_phi / 2.0) ** 2 + math.cos(phi_1) * math.cos(phi_2) * math.sin(delta_lambda / 2.0) ** 2\n",
    "\n",
    "    c = 2 * math.atan2(math.sqrt(a), math.sqrt(1 - a))\n",
    "    meters = R * c  # output distance in meters\n",
    "    meters = round(meters)\n",
    "    return(meters)"
   ]
  },
  {
   "cell_type": "code",
   "execution_count": null,
   "metadata": {},
   "outputs": [],
   "source": [
    "gdf['dst_center'] = gdf.apply(haversine, axis=1)\n",
    "gdf.loc[gdf['dst_center'] < 15000]\n",
    "\n",
    "ax = krk_border.plot(color='gainsboro', edgecolor='black')\n",
    "ax.set_title(\"distance of housing offers to the city center\")\n",
    "ax.legend()\n",
    "vistula.plot(ax=ax, color='lightcyan');\n",
    "rds.plot(ax=ax, color='black', linewidth = 0.1);\n",
    "gdf.plot(ax=ax, marker='o',column= 'dst_center', cmap='YlOrRd', markersize=6);"
   ]
  }
 ],
 "metadata": {
  "kernelspec": {
   "display_name": "Python 2",
   "language": "python",
   "name": "python2"
  },
  "language_info": {
   "codemirror_mode": {
    "name": "ipython",
    "version": 2
   },
   "file_extension": ".py",
   "mimetype": "text/x-python",
   "name": "python",
   "nbconvert_exporter": "python",
   "pygments_lexer": "ipython2",
   "version": "2.7.14"
  }
 },
 "nbformat": 4,
 "nbformat_minor": 2
}
